{
 "cells": [
  {
   "cell_type": "code",
   "execution_count": 2,
   "metadata": {},
   "outputs": [
    {
     "name": "stdout",
     "output_type": "stream",
     "text": [
      "tabelas: 2019 -22; 2020 - 22; 2021 - 22; 2022 - 35 = colunas\n"
     ]
    },
    {
     "data": {
      "text/html": [
       "<div>\n",
       "<style scoped>\n",
       "    .dataframe tbody tr th:only-of-type {\n",
       "        vertical-align: middle;\n",
       "    }\n",
       "\n",
       "    .dataframe tbody tr th {\n",
       "        vertical-align: top;\n",
       "    }\n",
       "\n",
       "    .dataframe thead th {\n",
       "        text-align: right;\n",
       "    }\n",
       "</style>\n",
       "<table border=\"1\" class=\"dataframe\">\n",
       "  <thead>\n",
       "    <tr style=\"text-align: right;\">\n",
       "      <th></th>\n",
       "      <th>geocode</th>\n",
       "      <th>etiqueta</th>\n",
       "      <th>granularidad</th>\n",
       "      <th>gcd_iata</th>\n",
       "      <th>gcd_icao</th>\n",
       "      <th>longitud</th>\n",
       "      <th>latitud</th>\n",
       "      <th>geohash</th>\n",
       "    </tr>\n",
       "  </thead>\n",
       "  <tbody>\n",
       "    <tr>\n",
       "      <th>103</th>\n",
       "      <td>BR_SBBR</td>\n",
       "      <td>Aeropuerto Internacional Presidente Juscelino ...</td>\n",
       "      <td>AEROPUERTOS</td>\n",
       "      <td>BSB</td>\n",
       "      <td>SBBR</td>\n",
       "      <td>-47.920834</td>\n",
       "      <td>-15.869167</td>\n",
       "      <td>6vjvtx157s</td>\n",
       "    </tr>\n",
       "  </tbody>\n",
       "</table>\n",
       "</div>"
      ],
      "text/plain": [
       "     geocode                                           etiqueta granularidad  \\\n",
       "103  BR_SBBR  Aeropuerto Internacional Presidente Juscelino ...  AEROPUERTOS   \n",
       "\n",
       "    gcd_iata gcd_icao   longitud    latitud     geohash  \n",
       "103      BSB     SBBR -47.920834 -15.869167  6vjvtx157s  "
      ]
     },
     "execution_count": 2,
     "metadata": {},
     "output_type": "execute_result"
    }
   ],
   "source": [
    "import pandas as pd\n",
    "import os\n",
    "\n",
    "# print(os.path.exists('Down_Tratamentos/2019.csv'))\n",
    "\n",
    "\n",
    "dw2019 = pd.read_csv('Down_Tratamentos/2019_tratado.csv') #colunas 22 \n",
    "dw2020 = pd.read_csv('Down_Tratamentos/2020_tratado.csv') #colunas 22\n",
    "dw2021 = pd.read_csv('Down_Tratamentos/2021_tratado.csv') #colunas 22\n",
    "dw2022 = pd.read_csv('Down_Tratamentos/2022_tratado.csv') #colunas 35\n",
    "df_aeroportos = pd.read_csv('some_importants/aeropuertos_2020.csv')\n",
    "\n",
    "colunas_2020 = len(dw2020.columns)\n",
    "colunas_2022 = len(dw2022.columns)\n",
    "colunas_2021 = len(dw2021.columns)\n",
    "print(f\"tabelas: 2019 -{len(dw2019.columns)}; 2020 - {len(dw2020.columns)}; 2021 - {len(dw2021.columns)}; 2022 - {len(dw2022.columns)} = colunas\")\n",
    "dw2019.columns\n",
    "df_aeroportos.columns\n",
    "df_bsb = df_aeroportos[df_aeroportos['gcd_iata'] == 'BSB']\n",
    "df_bsb"
   ]
  },
  {
   "cell_type": "markdown",
   "metadata": {},
   "source": [
    "### DataFrame 2019"
   ]
  },
  {
   "cell_type": "code",
   "execution_count": 4,
   "metadata": {},
   "outputs": [
    {
     "name": "stdout",
     "output_type": "stream",
     "text": [
      "16\n"
     ]
    }
   ],
   "source": [
    "def_senadores2019 = pd.DataFrame({\n",
    "    \"Passageiro\": dw2019[\"Passageiro\"],\n",
    "    \"Partido\": dw2019[\"Partido\"],\n",
    "    \"Sexo\": dw2019[\"Sexo\"],\n",
    "    \"UF\": dw2019[\"UF\"],\n",
    "    \"Motivo\": dw2019[\"Motivo\"],\n",
    "    \"ResumoMotivo\": dw2019[\"Resumo do Motivo\"],\n",
    "    \"Cargo\": dw2019[\"Status do Passageiro\"],\n",
    "    \"TipoServico\": dw2019[\"Tipo de Servi�o\"],\n",
    "    \"Trechos\": dw2019[\"Trechos\"],\n",
    "    \"Data1\": dw2019[\"Data da Viagem\"],\n",
    "    \"Data2\": dw2019[\"Unnamed: 7\"],\n",
    "    \"Tarifa\": dw2019[\"Tarifa\"],\n",
    "    \"Classe\": dw2019[\"Classe\"],\n",
    "    \"MultaOuRemarcacao\": dw2019[\"Multa/Remarca��o\"],\n",
    "    \"Cancelamento\": dw2019[\"Data do Cancelamento/ Remarca��o\"],\n",
    "    \"CustoTotal\": dw2019[\"Custo Efetivo SF\"]\n",
    "\n",
    "})\n",
    "# Valor Reembolso\n",
    "def_senadores2019\n",
    "print(len(def_senadores2019.columns))"
   ]
  },
  {
   "cell_type": "markdown",
   "metadata": {},
   "source": [
    "### DataFrame 2020"
   ]
  },
  {
   "cell_type": "code",
   "execution_count": 31,
   "metadata": {},
   "outputs": [
    {
     "data": {
      "text/plain": [
       "16"
      ]
     },
     "execution_count": 31,
     "metadata": {},
     "output_type": "execute_result"
    }
   ],
   "source": [
    "df_senadaores2020 = pd.DataFrame({\n",
    "    \"Passageiro\": dw2020[\"Passageiro\"],\n",
    "    \"Partido\": dw2020[\"Partido\"],\n",
    "    \"Sexo\": dw2020[\"Sexo\"],\n",
    "    \"UF\": dw2020[\"UF\"],\n",
    "    \"Motivo\": dw2022[\"Motivo\"],\n",
    "    \"ResumoMovito\": dw2022[\"Passageiro\"],\n",
    "    \"Cargo\": dw2022[\"Status do Passageiro\"],\n",
    "    \"TipoServico\": dw2022[\"Tipo de Servi�o\"],\n",
    "    \"Trechos\": dw2022[\"Trechos\"],\n",
    "    \"Data1\": dw2022[\"Data da Viagem\"],\n",
    "    \"Data2\": dw2022[\"Unnamed: 7\"],\n",
    "    \"Tarifa\": dw2022[\"Unnamed: 9\"],\n",
    "    \"Classe\": dw2020[\"GRU / UPGRADE de Classe\"],\n",
    "    \"Reembolso\": dw2022[\"Valor do Reembolso\"],\n",
    "    \"MultaOuRemarcacao\": dw2020[\"Multa/Remarca��o\"],\n",
    "    \"CustoTotal\": dw2022[\"Unnamed: 30\"]\n",
    "})\n",
    "len(df_senadaores2020.columns)"
   ]
  },
  {
   "cell_type": "markdown",
   "metadata": {},
   "source": [
    "### DataFrame 2021"
   ]
  },
  {
   "cell_type": "code",
   "execution_count": 19,
   "metadata": {},
   "outputs": [
    {
     "data": {
      "text/plain": [
       "16"
      ]
     },
     "execution_count": 19,
     "metadata": {},
     "output_type": "execute_result"
    }
   ],
   "source": [
    "df_senadores2021 = pd.DataFrame({\n",
    "    \"Passageiro\": dw2021[\"Passageiro\"],\n",
    "    \"Partido\": dw2021[\"Partido\"],\n",
    "    \"Sexo\": dw2021[\"Sexo\"],\n",
    "    \"UF\": dw2021[\"UF\"],\n",
    "    \"Motivo\": dw2021[\"Motivo\"],\n",
    "    \"ResumoMovito\": dw2021[\"Passageiro\"],\n",
    "    \"Cargo\": dw2021[\"Status do Passageiro\"],\n",
    "    \"TipoServico\": dw2021[\"Tipo de Servi�o\"],\n",
    "    \"Trechos\": dw2021[\"Trechos\"],\n",
    "    \"Data1\": dw2021[\"Data da Viagem\"],\n",
    "    \"Data2\": dw2021[\"Unnamed: 7\"],\n",
    "    \"TxEmbarque\": dw2021[\"Tx.de Embarque\"],\n",
    "    \"Classe\": dw2021[\"GRU / UPGRADE de Classe\"],\n",
    "    \"Reembolso\": dw2021[\"Valor do Reembolso\"],\n",
    "    \"MultaOuRemarcacao\": dw2021[\"Multa/Remarca��o\"],\n",
    "    \"CustoTotal\": dw2021[\"Custo Efetivo SF\"]\n",
    "})\n",
    "len(df_senadores2021.columns)\n"
   ]
  },
  {
   "cell_type": "markdown",
   "metadata": {},
   "source": [
    "### DataFrame 2022"
   ]
  },
  {
   "cell_type": "code",
   "execution_count": 27,
   "metadata": {},
   "outputs": [
    {
     "data": {
      "text/plain": [
       "16"
      ]
     },
     "execution_count": 27,
     "metadata": {},
     "output_type": "execute_result"
    }
   ],
   "source": [
    "df_senadores2022 = pd.DataFrame({\n",
    "    \"Passageiro\": dw2022[\"Passageiro\"],\n",
    "    \"Partido\": dw2022[\"Partido\"],\n",
    "    \"Sexo\": dw2022[\"Sexo\"],\n",
    "    \"UF\": dw2022[\"UF\"],\n",
    "    \"Motivo\": dw2022[\"Motivo\"],\n",
    "    \"ResumoMotivo\": dw2022[\"Resumo do Motivo\"],\n",
    "    \"Cargo\": dw2022[\"Status do Passageiro\"],\n",
    "    \"TipoServico\": dw2022[\"Tipo de Servi�o\"],\n",
    "    \"Trechos\": dw2022[\"Trechos\"],\n",
    "    \"Data1\": dw2022[\"Data da Viagem\"],\n",
    "    \"Data2\": dw2022[\"Unnamed: 7\"],\n",
    "    \"Tarifa\": dw2022[\"Unnamed: 9\"],\n",
    "    \"Cancelamento\": dw2022[\"Data do Cancelamento/ Remarca��o\"],\n",
    "    \"Classe\": dw2022[\"Classe\"],\n",
    "    \"Reembolso\": dw2022[\"Valor do Reembolso\"],\n",
    "    \"CustoTotal\": dw2022[\"Unnamed: 30\"]\n",
    "\n",
    "})\n",
    "# Valor Reembolso\n",
    "len(df_senadores2022.columns)"
   ]
  },
  {
   "cell_type": "markdown",
   "metadata": {},
   "source": [
    "## Contenando as tabelas"
   ]
  },
  {
   "cell_type": "code",
   "execution_count": null,
   "metadata": {},
   "outputs": [],
   "source": [
    "df_senadores = pd.concat([def_senadores2019, df_senadaores2020, df_senadores2021, df_senadaores2020])\n",
    "# df_senadores.to_csv(\"todos_dados.csv\")"
   ]
  },
  {
   "cell_type": "code",
   "execution_count": 59,
   "metadata": {},
   "outputs": [
    {
     "data": {
      "text/plain": [
       "Index(['Unnamed: 0', 'Passageiro', 'Partido', 'Sexo', 'UF', 'Motivo',\n",
       "       'ResumoMotivo', 'Cargo', 'TipoServico', 'Trechos', 'Data1', 'Data2',\n",
       "       'Tarifa', 'Classe', 'MultaOuRemarcacao', 'Cancelamento', 'CustoTotal',\n",
       "       'ResumoMovito', 'Reembolso', 'TxEmbarque'],\n",
       "      dtype='object')"
      ]
     },
     "execution_count": 59,
     "metadata": {},
     "output_type": "execute_result"
    }
   ],
   "source": [
    "df_todos_senadores = pd.read_csv(\"todos_dados.csv\")\n",
    "df_todos_senadores.columns"
   ]
  },
  {
   "cell_type": "code",
   "execution_count": null,
   "metadata": {},
   "outputs": [
    {
     "data": {
      "text/plain": [
       "0       3135.45\n",
       "1        128.00\n",
       "2      17643.91\n",
       "3        193.03\n",
       "4      30512.96\n",
       "         ...   \n",
       "112      107.10\n",
       "113        0.01\n",
       "114      526.54\n",
       "115      762.40\n",
       "116     1558.63\n",
       "Name: CustoTotal, Length: 444, dtype: float64"
      ]
     },
     "execution_count": 64,
     "metadata": {},
     "output_type": "execute_result"
    }
   ],
   "source": [
    "import numpy as np\n",
    "import matplotlib.pyplot as plt\n",
    "import seaborn as sns\n",
    "from sklearn.cluster import KMeans\n",
    "from sklearn.preprocessing import StandardScaler\n",
    "\n",
    "\n",
    "data_senadores_todos = pd.DataFrame({\n",
    "    \"Passageiro\": df_todos_senadores[\"Passageiro\"],\n",
    "    \"Partido\": df_todos_senadores[\"Partido\"],\n",
    "    \"Sexo\": df_todos_senadores[\"Sexo\"],\n",
    "    \"UF\": df_todos_senadores[\"UF\"],\n",
    "    \"Trecho\": df_todos_senadores[\"Trechos\"],\n",
    "    \"Data1\": df_todos_senadores[\"Data1\"],\n",
    "    \"Data2\": df_todos_senadores[\"Data2\"],\n",
    "    \"Tarifa\": df_todos_senadores[\"Tarifa\"],\n",
    "    \"Classe\": df_todos_senadores[\"Classe\"],\n",
    "    \"MultaOurRemarcacao\": df_todos_senadores[\"MultaOuRemarcacao\"],\n",
    "    \"Cancelamento\": df_todos_senadores[\"Cancelamento\"],\n",
    "    \"TxEmbarque\":df_todos_senadores[\"TxEmbarque\"],\n",
    "    \"Custo\": df_todos_senadores[\"CustoTotal\"]\n",
    "}\n",
    ")\n",
    "df_senadores[\"CustoTotal\"] = data_senadores_todos[\"Custo\"].str.replace(\".\", \"\", regex=False)  # Remove pontos\n",
    "df_senadores[\"CustoTotal\"] = df_senadores[\"CustoTotal\"].str.replace(\",\", \".\", regex=False).astype(float)  # Troca vírgula por ponto\n",
    "df_senadores[\"CustoTotal\"]"
   ]
  },
  {
   "cell_type": "code",
   "execution_count": 76,
   "metadata": {},
   "outputs": [],
   "source": [
    "scaler = StandardScaler()\n",
    "df_senadores[\"GastosNormalizados\"] = scaler.fit_transform(df_senadores[[\"CustoTotal\"]])\n",
    "df_senadores = df_senadores.dropna(subset=[\"GastosNormalizados\"])"
   ]
  },
  {
   "cell_type": "markdown",
   "metadata": {},
   "source": [
    "## Aplicando KMeans\n"
   ]
  },
  {
   "cell_type": "code",
   "execution_count": 81,
   "metadata": {},
   "outputs": [
    {
     "data": {
      "text/plain": [
       "array([0, 0, 1, 0, 1, 0, 1, 0, 0, 0, 0, 1, 0, 0, 1, 0, 0, 0, 0, 1, 0, 0,\n",
       "       1, 0, 0, 0, 0, 0, 0, 0, 0, 0, 0, 0, 0, 0, 0, 0, 0, 0, 0, 0, 0, 0,\n",
       "       0, 0, 0, 0, 0, 0, 0, 0, 1, 0, 0, 0, 0, 0, 0, 0, 0, 0, 1, 0, 0, 0,\n",
       "       0, 0, 0, 0, 0, 0, 0, 0, 0, 0, 0, 0, 0, 0, 0, 0, 0, 0, 0, 0, 0, 0,\n",
       "       0, 0, 0, 0, 1, 0, 0, 0, 0, 0, 0, 0, 0, 0, 0, 0, 0, 1, 0, 0, 0, 0,\n",
       "       0, 0, 0, 0, 0, 0, 0, 0, 1, 0, 0, 0, 0, 0, 0, 0, 1, 0, 0, 0, 0, 0,\n",
       "       0, 0, 0, 0, 0, 0, 0, 0, 0, 0, 0, 0, 0, 0, 0, 0, 0, 0, 0, 0, 0, 0,\n",
       "       0, 0, 0, 0, 0, 0, 0, 0, 0, 0, 0, 0, 0, 0, 0, 0, 0, 0, 1, 0, 1, 0,\n",
       "       1, 0, 0, 0, 0, 1, 0, 0, 1, 0, 0, 0, 0, 1, 0, 0, 1, 0, 0, 0, 0, 0,\n",
       "       0, 0, 0, 0, 0, 0, 0, 0, 0, 0, 0, 0, 0, 0, 0, 0, 0, 0, 0, 0, 0, 0,\n",
       "       0, 0, 1, 0, 0, 0, 0, 0, 0, 0, 0, 0, 1, 0, 0, 0, 0, 0, 0, 0, 0, 0,\n",
       "       0, 0, 0, 0, 0, 0, 0, 0, 0, 0, 0, 0, 0, 0, 0, 0, 0, 0, 0, 0, 1, 0,\n",
       "       0, 0, 0, 0, 0, 0, 0, 0, 0, 0, 0, 1, 0, 0, 0, 0, 0, 0, 0, 0, 0, 0,\n",
       "       0, 0, 1, 0, 1, 0, 1, 0, 0, 0, 0, 1, 0, 0, 1, 0, 0, 0, 0, 1, 0, 0,\n",
       "       1, 0, 0, 0, 0, 0, 0, 0, 0, 0, 0, 0, 0, 0, 0, 0, 0, 0, 0, 1, 0, 1,\n",
       "       0, 1, 0, 0, 0, 0, 1, 0, 0, 1, 0, 0, 0, 0, 1, 0, 0, 1, 0, 0, 0, 0,\n",
       "       0, 0, 0, 0, 0, 0, 0, 0, 0, 0, 0, 0, 0, 0, 0, 0, 0, 0, 0, 0, 0, 0,\n",
       "       0, 0, 0, 1, 0, 0, 0, 0, 0, 0, 0, 0, 0, 1, 0, 0, 0, 0, 0, 0, 0, 0,\n",
       "       0, 0, 0, 0, 0, 0, 0, 0, 0, 0, 0, 0, 0, 0, 0, 0, 0, 0, 0, 0, 0, 1,\n",
       "       0, 0, 0, 0, 0, 0, 0, 0, 0, 0, 0, 0, 1, 0, 0, 0, 0, 0, 0, 0, 0, 0,\n",
       "       0], dtype=int32)"
      ]
     },
     "execution_count": 81,
     "metadata": {},
     "output_type": "execute_result"
    }
   ],
   "source": [
    "kmeans = KMeans(n_clusters=2, random_state=42)\n",
    "teste = df_senadores.loc[:, \"Cluster\"] = kmeans.fit_predict(df_senadores[[\"GastosNormalizados\"]])\n",
    "teste\n"
   ]
  },
  {
   "cell_type": "code",
   "execution_count": 82,
   "metadata": {},
   "outputs": [
    {
     "data": {
      "text/plain": [
       "{np.int32(0): np.int64(399), np.int32(1): np.int64(42)}"
      ]
     },
     "execution_count": 82,
     "metadata": {},
     "output_type": "execute_result"
    }
   ],
   "source": [
    "unique, counts = np.unique(df_senadores[\"Cluster\"], return_counts=True)\n",
    "dict(zip(unique, counts))"
   ]
  }
 ],
 "metadata": {
  "kernelspec": {
   "display_name": "Python 3",
   "language": "python",
   "name": "python3"
  },
  "language_info": {
   "codemirror_mode": {
    "name": "ipython",
    "version": 3
   },
   "file_extension": ".py",
   "mimetype": "text/x-python",
   "name": "python",
   "nbconvert_exporter": "python",
   "pygments_lexer": "ipython3",
   "version": "3.10.12"
  }
 },
 "nbformat": 4,
 "nbformat_minor": 2
}
